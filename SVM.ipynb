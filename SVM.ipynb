{
 "cells": [
  {
   "cell_type": "markdown",
   "metadata": {},
   "source": [
    "# Suport Vector Machine (SVM)"
   ]
  },
  {
   "cell_type": "markdown",
   "metadata": {},
   "source": [
    "O objetivo de um SVM é encontrar o hiperplano de separação ideal o qual maximiza a margem da base de treinamento.\n",
    "\n",
    "A primeira coisa que notamos nesta definição, é que o SVM precisa de uma base de treinamento. O que quer dizer que é um algoritmo de aprendizado supervisionado.\n",
    "\n",
    "Também é importante saber que o SVM é um algoritmo de classificação. Isso quer dizer que iremos usá-lo para predizer se algo pertence a uma classe particular."
   ]
  },
  {
   "cell_type": "markdown",
   "metadata": {},
   "source": [
    "Para uma explicação mais intuitiva e visual assista [16. Learning: Support Vector Machines](https://www.youtube.com/watch?v=_PwhiWxHK8o)"
   ]
  },
  {
   "cell_type": "markdown",
   "metadata": {},
   "source": [
    "### Gerando dados artificiais"
   ]
  },
  {
   "cell_type": "markdown",
   "metadata": {},
   "source": [
    "Vamos criar uma matriz com duas colunas e vinte linhas."
   ]
  },
  {
   "cell_type": "code",
   "execution_count": 1,
   "metadata": {},
   "outputs": [
    {
     "data": {
      "text/html": [
       "<table>\n",
       "<tbody>\n",
       "\t<tr><td>-0.62645381</td><td> 0.91897737</td></tr>\n",
       "\t<tr><td> 0.18364332</td><td> 0.78213630</td></tr>\n",
       "\t<tr><td>-0.83562861</td><td> 0.07456498</td></tr>\n",
       "\t<tr><td> 1.59528080</td><td>-1.98935170</td></tr>\n",
       "\t<tr><td> 0.32950777</td><td> 0.61982575</td></tr>\n",
       "\t<tr><td>-0.82046838</td><td>-0.05612874</td></tr>\n",
       "\t<tr><td> 0.48742905</td><td>-0.15579551</td></tr>\n",
       "\t<tr><td> 0.73832471</td><td>-1.47075238</td></tr>\n",
       "\t<tr><td> 0.57578135</td><td>-0.47815006</td></tr>\n",
       "\t<tr><td>-0.30538839</td><td> 0.41794156</td></tr>\n",
       "\t<tr><td> 1.51178117</td><td> 1.35867955</td></tr>\n",
       "\t<tr><td> 0.38984324</td><td>-0.10278773</td></tr>\n",
       "\t<tr><td>-0.62124058</td><td> 0.38767161</td></tr>\n",
       "\t<tr><td>-2.21469989</td><td>-0.05380504</td></tr>\n",
       "\t<tr><td> 1.12493092</td><td>-1.37705956</td></tr>\n",
       "\t<tr><td>-0.04493361</td><td>-0.41499456</td></tr>\n",
       "\t<tr><td>-0.01619026</td><td>-0.39428995</td></tr>\n",
       "\t<tr><td> 0.94383621</td><td>-0.05931340</td></tr>\n",
       "\t<tr><td> 0.82122120</td><td> 1.10002537</td></tr>\n",
       "\t<tr><td> 0.59390132</td><td> 0.76317575</td></tr>\n",
       "</tbody>\n",
       "</table>\n"
      ],
      "text/latex": [
       "\\begin{tabular}{ll}\n",
       "\t -0.62645381 &  0.91897737\\\\\n",
       "\t  0.18364332 &  0.78213630\\\\\n",
       "\t -0.83562861 &  0.07456498\\\\\n",
       "\t  1.59528080 & -1.98935170\\\\\n",
       "\t  0.32950777 &  0.61982575\\\\\n",
       "\t -0.82046838 & -0.05612874\\\\\n",
       "\t  0.48742905 & -0.15579551\\\\\n",
       "\t  0.73832471 & -1.47075238\\\\\n",
       "\t  0.57578135 & -0.47815006\\\\\n",
       "\t -0.30538839 &  0.41794156\\\\\n",
       "\t  1.51178117 &  1.35867955\\\\\n",
       "\t  0.38984324 & -0.10278773\\\\\n",
       "\t -0.62124058 &  0.38767161\\\\\n",
       "\t -2.21469989 & -0.05380504\\\\\n",
       "\t  1.12493092 & -1.37705956\\\\\n",
       "\t -0.04493361 & -0.41499456\\\\\n",
       "\t -0.01619026 & -0.39428995\\\\\n",
       "\t  0.94383621 & -0.05931340\\\\\n",
       "\t  0.82122120 &  1.10002537\\\\\n",
       "\t  0.59390132 &  0.76317575\\\\\n",
       "\\end{tabular}\n"
      ],
      "text/markdown": [
       "\n",
       "| -0.62645381 |  0.91897737 | \n",
       "|  0.18364332 |  0.78213630 | \n",
       "| -0.83562861 |  0.07456498 | \n",
       "|  1.59528080 | -1.98935170 | \n",
       "|  0.32950777 |  0.61982575 | \n",
       "| -0.82046838 | -0.05612874 | \n",
       "|  0.48742905 | -0.15579551 | \n",
       "|  0.73832471 | -1.47075238 | \n",
       "|  0.57578135 | -0.47815006 | \n",
       "| -0.30538839 |  0.41794156 | \n",
       "|  1.51178117 |  1.35867955 | \n",
       "|  0.38984324 | -0.10278773 | \n",
       "| -0.62124058 |  0.38767161 | \n",
       "| -2.21469989 | -0.05380504 | \n",
       "|  1.12493092 | -1.37705956 | \n",
       "| -0.04493361 | -0.41499456 | \n",
       "| -0.01619026 | -0.39428995 | \n",
       "|  0.94383621 | -0.05931340 | \n",
       "|  0.82122120 |  1.10002537 | \n",
       "|  0.59390132 |  0.76317575 | \n",
       "\n",
       "\n"
      ],
      "text/plain": [
       "      [,1]        [,2]       \n",
       " [1,] -0.62645381  0.91897737\n",
       " [2,]  0.18364332  0.78213630\n",
       " [3,] -0.83562861  0.07456498\n",
       " [4,]  1.59528080 -1.98935170\n",
       " [5,]  0.32950777  0.61982575\n",
       " [6,] -0.82046838 -0.05612874\n",
       " [7,]  0.48742905 -0.15579551\n",
       " [8,]  0.73832471 -1.47075238\n",
       " [9,]  0.57578135 -0.47815006\n",
       "[10,] -0.30538839  0.41794156\n",
       "[11,]  1.51178117  1.35867955\n",
       "[12,]  0.38984324 -0.10278773\n",
       "[13,] -0.62124058  0.38767161\n",
       "[14,] -2.21469989 -0.05380504\n",
       "[15,]  1.12493092 -1.37705956\n",
       "[16,] -0.04493361 -0.41499456\n",
       "[17,] -0.01619026 -0.39428995\n",
       "[18,]  0.94383621 -0.05931340\n",
       "[19,]  0.82122120  1.10002537\n",
       "[20,]  0.59390132  0.76317575"
      ]
     },
     "metadata": {},
     "output_type": "display_data"
    }
   ],
   "source": [
    "set.seed(1)\n",
    "\n",
    "x = matrix(rnorm(20*2), ncol = 2)\n",
    "x"
   ]
  },
  {
   "cell_type": "code",
   "execution_count": 2,
   "metadata": {},
   "outputs": [
    {
     "data": {
      "text/html": [
       "<ol class=list-inline>\n",
       "\t<li>-1</li>\n",
       "\t<li>-1</li>\n",
       "\t<li>-1</li>\n",
       "\t<li>-1</li>\n",
       "\t<li>-1</li>\n",
       "\t<li>-1</li>\n",
       "\t<li>-1</li>\n",
       "\t<li>-1</li>\n",
       "\t<li>-1</li>\n",
       "\t<li>-1</li>\n",
       "\t<li>1</li>\n",
       "\t<li>1</li>\n",
       "\t<li>1</li>\n",
       "\t<li>1</li>\n",
       "\t<li>1</li>\n",
       "\t<li>1</li>\n",
       "\t<li>1</li>\n",
       "\t<li>1</li>\n",
       "\t<li>1</li>\n",
       "\t<li>1</li>\n",
       "</ol>\n"
      ],
      "text/latex": [
       "\\begin{enumerate*}\n",
       "\\item -1\n",
       "\\item -1\n",
       "\\item -1\n",
       "\\item -1\n",
       "\\item -1\n",
       "\\item -1\n",
       "\\item -1\n",
       "\\item -1\n",
       "\\item -1\n",
       "\\item -1\n",
       "\\item 1\n",
       "\\item 1\n",
       "\\item 1\n",
       "\\item 1\n",
       "\\item 1\n",
       "\\item 1\n",
       "\\item 1\n",
       "\\item 1\n",
       "\\item 1\n",
       "\\item 1\n",
       "\\end{enumerate*}\n"
      ],
      "text/markdown": [
       "1. -1\n",
       "2. -1\n",
       "3. -1\n",
       "4. -1\n",
       "5. -1\n",
       "6. -1\n",
       "7. -1\n",
       "8. -1\n",
       "9. -1\n",
       "10. -1\n",
       "11. 1\n",
       "12. 1\n",
       "13. 1\n",
       "14. 1\n",
       "15. 1\n",
       "16. 1\n",
       "17. 1\n",
       "18. 1\n",
       "19. 1\n",
       "20. 1\n",
       "\n",
       "\n"
      ],
      "text/plain": [
       " [1] -1 -1 -1 -1 -1 -1 -1 -1 -1 -1  1  1  1  1  1  1  1  1  1  1"
      ]
     },
     "metadata": {},
     "output_type": "display_data"
    }
   ],
   "source": [
    "# gerando a variável resposta\n",
    "y = c(rep(-1, 10), rep(1,10))\n",
    "y"
   ]
  },
  {
   "cell_type": "markdown",
   "metadata": {},
   "source": [
    "Agora vamos adicionar mais 1 nos últimos 10 valores da nossa matriz x"
   ]
  },
  {
   "cell_type": "code",
   "execution_count": 3,
   "metadata": {},
   "outputs": [
    {
     "data": {
      "text/html": [
       "<table>\n",
       "<tbody>\n",
       "\t<tr><td>-0.6264538 </td><td> 0.91897737</td></tr>\n",
       "\t<tr><td> 0.1836433 </td><td> 0.78213630</td></tr>\n",
       "\t<tr><td>-0.8356286 </td><td> 0.07456498</td></tr>\n",
       "\t<tr><td> 1.5952808 </td><td>-1.98935170</td></tr>\n",
       "\t<tr><td> 0.3295078 </td><td> 0.61982575</td></tr>\n",
       "\t<tr><td>-0.8204684 </td><td>-0.05612874</td></tr>\n",
       "\t<tr><td> 0.4874291 </td><td>-0.15579551</td></tr>\n",
       "\t<tr><td> 0.7383247 </td><td>-1.47075238</td></tr>\n",
       "\t<tr><td> 0.5757814 </td><td>-0.47815006</td></tr>\n",
       "\t<tr><td>-0.3053884 </td><td> 0.41794156</td></tr>\n",
       "\t<tr><td> 2.5117812 </td><td> 2.35867955</td></tr>\n",
       "\t<tr><td> 1.3898432 </td><td> 0.89721227</td></tr>\n",
       "\t<tr><td> 0.3787594 </td><td> 1.38767161</td></tr>\n",
       "\t<tr><td>-1.2146999 </td><td> 0.94619496</td></tr>\n",
       "\t<tr><td> 2.1249309 </td><td>-0.37705956</td></tr>\n",
       "\t<tr><td> 0.9550664 </td><td> 0.58500544</td></tr>\n",
       "\t<tr><td> 0.9838097 </td><td> 0.60571005</td></tr>\n",
       "\t<tr><td> 1.9438362 </td><td> 0.94068660</td></tr>\n",
       "\t<tr><td> 1.8212212 </td><td> 2.10002537</td></tr>\n",
       "\t<tr><td> 1.5939013 </td><td> 1.76317575</td></tr>\n",
       "</tbody>\n",
       "</table>\n"
      ],
      "text/latex": [
       "\\begin{tabular}{ll}\n",
       "\t -0.6264538  &  0.91897737\\\\\n",
       "\t  0.1836433  &  0.78213630\\\\\n",
       "\t -0.8356286  &  0.07456498\\\\\n",
       "\t  1.5952808  & -1.98935170\\\\\n",
       "\t  0.3295078  &  0.61982575\\\\\n",
       "\t -0.8204684  & -0.05612874\\\\\n",
       "\t  0.4874291  & -0.15579551\\\\\n",
       "\t  0.7383247  & -1.47075238\\\\\n",
       "\t  0.5757814  & -0.47815006\\\\\n",
       "\t -0.3053884  &  0.41794156\\\\\n",
       "\t  2.5117812  &  2.35867955\\\\\n",
       "\t  1.3898432  &  0.89721227\\\\\n",
       "\t  0.3787594  &  1.38767161\\\\\n",
       "\t -1.2146999  &  0.94619496\\\\\n",
       "\t  2.1249309  & -0.37705956\\\\\n",
       "\t  0.9550664  &  0.58500544\\\\\n",
       "\t  0.9838097  &  0.60571005\\\\\n",
       "\t  1.9438362  &  0.94068660\\\\\n",
       "\t  1.8212212  &  2.10002537\\\\\n",
       "\t  1.5939013  &  1.76317575\\\\\n",
       "\\end{tabular}\n"
      ],
      "text/markdown": [
       "\n",
       "| -0.6264538  |  0.91897737 | \n",
       "|  0.1836433  |  0.78213630 | \n",
       "| -0.8356286  |  0.07456498 | \n",
       "|  1.5952808  | -1.98935170 | \n",
       "|  0.3295078  |  0.61982575 | \n",
       "| -0.8204684  | -0.05612874 | \n",
       "|  0.4874291  | -0.15579551 | \n",
       "|  0.7383247  | -1.47075238 | \n",
       "|  0.5757814  | -0.47815006 | \n",
       "| -0.3053884  |  0.41794156 | \n",
       "|  2.5117812  |  2.35867955 | \n",
       "|  1.3898432  |  0.89721227 | \n",
       "|  0.3787594  |  1.38767161 | \n",
       "| -1.2146999  |  0.94619496 | \n",
       "|  2.1249309  | -0.37705956 | \n",
       "|  0.9550664  |  0.58500544 | \n",
       "|  0.9838097  |  0.60571005 | \n",
       "|  1.9438362  |  0.94068660 | \n",
       "|  1.8212212  |  2.10002537 | \n",
       "|  1.5939013  |  1.76317575 | \n",
       "\n",
       "\n"
      ],
      "text/plain": [
       "      [,1]       [,2]       \n",
       " [1,] -0.6264538  0.91897737\n",
       " [2,]  0.1836433  0.78213630\n",
       " [3,] -0.8356286  0.07456498\n",
       " [4,]  1.5952808 -1.98935170\n",
       " [5,]  0.3295078  0.61982575\n",
       " [6,] -0.8204684 -0.05612874\n",
       " [7,]  0.4874291 -0.15579551\n",
       " [8,]  0.7383247 -1.47075238\n",
       " [9,]  0.5757814 -0.47815006\n",
       "[10,] -0.3053884  0.41794156\n",
       "[11,]  2.5117812  2.35867955\n",
       "[12,]  1.3898432  0.89721227\n",
       "[13,]  0.3787594  1.38767161\n",
       "[14,] -1.2146999  0.94619496\n",
       "[15,]  2.1249309 -0.37705956\n",
       "[16,]  0.9550664  0.58500544\n",
       "[17,]  0.9838097  0.60571005\n",
       "[18,]  1.9438362  0.94068660\n",
       "[19,]  1.8212212  2.10002537\n",
       "[20,]  1.5939013  1.76317575"
      ]
     },
     "metadata": {},
     "output_type": "display_data"
    }
   ],
   "source": [
    "x[y==1,] = x[y==1,] + 1\n",
    "x"
   ]
  },
  {
   "cell_type": "markdown",
   "metadata": {},
   "source": [
    "Vamos ver se esse nosso dataset artificial é linearmente separável"
   ]
  },
  {
   "cell_type": "code",
   "execution_count": 4,
   "metadata": {},
   "outputs": [
    {
     "data": {
      "image/png": "[encoded data removed]",
      "text/plain": [
       "plot without title"
      ]
     },
     "metadata": {},
     "output_type": "display_data"
    }
   ],
   "source": [
    "plot(x, col=c(3-y)) # col = 2 então azul, col = 4 etão vermelho"
   ]
  },
  {
   "cell_type": "markdown",
   "metadata": {},
   "source": [
    "Vamos agora criar nosso dataframe dat com os dados de x e y"
   ]
  },
  {
   "cell_type": "code",
   "execution_count": 5,
   "metadata": {},
   "outputs": [
    {
     "data": {
      "text/html": [
       "<table>\n",
       "<thead><tr><th scope=col>X1</th><th scope=col>X2</th><th scope=col>y</th></tr></thead>\n",
       "<tbody>\n",
       "\t<tr><td>-0.6264538 </td><td> 0.91897737</td><td>-1         </td></tr>\n",
       "\t<tr><td> 0.1836433 </td><td> 0.78213630</td><td>-1         </td></tr>\n",
       "\t<tr><td>-0.8356286 </td><td> 0.07456498</td><td>-1         </td></tr>\n",
       "\t<tr><td> 1.5952808 </td><td>-1.98935170</td><td>-1         </td></tr>\n",
       "\t<tr><td> 0.3295078 </td><td> 0.61982575</td><td>-1         </td></tr>\n",
       "\t<tr><td>-0.8204684 </td><td>-0.05612874</td><td>-1         </td></tr>\n",
       "\t<tr><td> 0.4874291 </td><td>-0.15579551</td><td>-1         </td></tr>\n",
       "\t<tr><td> 0.7383247 </td><td>-1.47075238</td><td>-1         </td></tr>\n",
       "\t<tr><td> 0.5757814 </td><td>-0.47815006</td><td>-1         </td></tr>\n",
       "\t<tr><td>-0.3053884 </td><td> 0.41794156</td><td>-1         </td></tr>\n",
       "\t<tr><td> 2.5117812 </td><td> 2.35867955</td><td>1          </td></tr>\n",
       "\t<tr><td> 1.3898432 </td><td> 0.89721227</td><td>1          </td></tr>\n",
       "\t<tr><td> 0.3787594 </td><td> 1.38767161</td><td>1          </td></tr>\n",
       "\t<tr><td>-1.2146999 </td><td> 0.94619496</td><td>1          </td></tr>\n",
       "\t<tr><td> 2.1249309 </td><td>-0.37705956</td><td>1          </td></tr>\n",
       "\t<tr><td> 0.9550664 </td><td> 0.58500544</td><td>1          </td></tr>\n",
       "\t<tr><td> 0.9838097 </td><td> 0.60571005</td><td>1          </td></tr>\n",
       "\t<tr><td> 1.9438362 </td><td> 0.94068660</td><td>1          </td></tr>\n",
       "\t<tr><td> 1.8212212 </td><td> 2.10002537</td><td>1          </td></tr>\n",
       "\t<tr><td> 1.5939013 </td><td> 1.76317575</td><td>1          </td></tr>\n",
       "</tbody>\n",
       "</table>\n"
      ],
      "text/latex": [
       "\\begin{tabular}{r|lll}\n",
       " X1 & X2 & y\\\\\n",
       "\\hline\n",
       "\t -0.6264538  &  0.91897737 & -1         \\\\\n",
       "\t  0.1836433  &  0.78213630 & -1         \\\\\n",
       "\t -0.8356286  &  0.07456498 & -1         \\\\\n",
       "\t  1.5952808  & -1.98935170 & -1         \\\\\n",
       "\t  0.3295078  &  0.61982575 & -1         \\\\\n",
       "\t -0.8204684  & -0.05612874 & -1         \\\\\n",
       "\t  0.4874291  & -0.15579551 & -1         \\\\\n",
       "\t  0.7383247  & -1.47075238 & -1         \\\\\n",
       "\t  0.5757814  & -0.47815006 & -1         \\\\\n",
       "\t -0.3053884  &  0.41794156 & -1         \\\\\n",
       "\t  2.5117812  &  2.35867955 & 1          \\\\\n",
       "\t  1.3898432  &  0.89721227 & 1          \\\\\n",
       "\t  0.3787594  &  1.38767161 & 1          \\\\\n",
       "\t -1.2146999  &  0.94619496 & 1          \\\\\n",
       "\t  2.1249309  & -0.37705956 & 1          \\\\\n",
       "\t  0.9550664  &  0.58500544 & 1          \\\\\n",
       "\t  0.9838097  &  0.60571005 & 1          \\\\\n",
       "\t  1.9438362  &  0.94068660 & 1          \\\\\n",
       "\t  1.8212212  &  2.10002537 & 1          \\\\\n",
       "\t  1.5939013  &  1.76317575 & 1          \\\\\n",
       "\\end{tabular}\n"
      ],
      "text/markdown": [
       "\n",
       "X1 | X2 | y | \n",
       "|---|---|---|---|---|---|---|---|---|---|---|---|---|---|---|---|---|---|---|---|\n",
       "| -0.6264538  |  0.91897737 | -1          | \n",
       "|  0.1836433  |  0.78213630 | -1          | \n",
       "| -0.8356286  |  0.07456498 | -1          | \n",
       "|  1.5952808  | -1.98935170 | -1          | \n",
       "|  0.3295078  |  0.61982575 | -1          | \n",
       "| -0.8204684  | -0.05612874 | -1          | \n",
       "|  0.4874291  | -0.15579551 | -1          | \n",
       "|  0.7383247  | -1.47075238 | -1          | \n",
       "|  0.5757814  | -0.47815006 | -1          | \n",
       "| -0.3053884  |  0.41794156 | -1          | \n",
       "|  2.5117812  |  2.35867955 | 1           | \n",
       "|  1.3898432  |  0.89721227 | 1           | \n",
       "|  0.3787594  |  1.38767161 | 1           | \n",
       "| -1.2146999  |  0.94619496 | 1           | \n",
       "|  2.1249309  | -0.37705956 | 1           | \n",
       "|  0.9550664  |  0.58500544 | 1           | \n",
       "|  0.9838097  |  0.60571005 | 1           | \n",
       "|  1.9438362  |  0.94068660 | 1           | \n",
       "|  1.8212212  |  2.10002537 | 1           | \n",
       "|  1.5939013  |  1.76317575 | 1           | \n",
       "\n",
       "\n"
      ],
      "text/plain": [
       "   X1         X2          y \n",
       "1  -0.6264538  0.91897737 -1\n",
       "2   0.1836433  0.78213630 -1\n",
       "3  -0.8356286  0.07456498 -1\n",
       "4   1.5952808 -1.98935170 -1\n",
       "5   0.3295078  0.61982575 -1\n",
       "6  -0.8204684 -0.05612874 -1\n",
       "7   0.4874291 -0.15579551 -1\n",
       "8   0.7383247 -1.47075238 -1\n",
       "9   0.5757814 -0.47815006 -1\n",
       "10 -0.3053884  0.41794156 -1\n",
       "11  2.5117812  2.35867955 1 \n",
       "12  1.3898432  0.89721227 1 \n",
       "13  0.3787594  1.38767161 1 \n",
       "14 -1.2146999  0.94619496 1 \n",
       "15  2.1249309 -0.37705956 1 \n",
       "16  0.9550664  0.58500544 1 \n",
       "17  0.9838097  0.60571005 1 \n",
       "18  1.9438362  0.94068660 1 \n",
       "19  1.8212212  2.10002537 1 \n",
       "20  1.5939013  1.76317575 1 "
      ]
     },
     "metadata": {},
     "output_type": "display_data"
    }
   ],
   "source": [
    "dat = data.frame(x, y=as.factor(x = y))\n",
    "dat"
   ]
  },
  {
   "cell_type": "markdown",
   "metadata": {},
   "source": [
    "### Brincando com SVM"
   ]
  },
  {
   "cell_type": "markdown",
   "metadata": {},
   "source": [
    "O nome do pacote que iremos usar no R é *e1071*, que é a sala na Universidade de Berlim onde esse pacote foi apresentado pela primeira vez. "
   ]
  },
  {
   "cell_type": "code",
   "execution_count": 6,
   "metadata": {},
   "outputs": [],
   "source": [
    "library(e1071)"
   ]
  },
  {
   "cell_type": "code",
   "execution_count": 7,
   "metadata": {},
   "outputs": [
    {
     "data": {
      "image/png": "[encoded data removed]",
      "text/plain": [
       "Plot with title “SVM classification plot”"
      ]
     },
     "metadata": {},
     "output_type": "display_data"
    }
   ],
   "source": [
    "# gerando nosso modelo\n",
    "svmfit = svm(y ~., data = dat, kernel = \"linear\", cost = 10, scale = FALSE)\n",
    "plot(svmfit, dat)"
   ]
  },
  {
   "cell_type": "code",
   "execution_count": 8,
   "metadata": {},
   "outputs": [
    {
     "data": {
      "text/html": [
       "<ol class=list-inline>\n",
       "\t<li>1</li>\n",
       "\t<li>2</li>\n",
       "\t<li>5</li>\n",
       "\t<li>7</li>\n",
       "\t<li>14</li>\n",
       "\t<li>16</li>\n",
       "\t<li>17</li>\n",
       "</ol>\n"
      ],
      "text/latex": [
       "\\begin{enumerate*}\n",
       "\\item 1\n",
       "\\item 2\n",
       "\\item 5\n",
       "\\item 7\n",
       "\\item 14\n",
       "\\item 16\n",
       "\\item 17\n",
       "\\end{enumerate*}\n"
      ],
      "text/markdown": [
       "1. 1\n",
       "2. 2\n",
       "3. 5\n",
       "4. 7\n",
       "5. 14\n",
       "6. 16\n",
       "7. 17\n",
       "\n",
       "\n"
      ],
      "text/plain": [
       "[1]  1  2  5  7 14 16 17"
      ]
     },
     "metadata": {},
     "output_type": "display_data"
    }
   ],
   "source": [
    "# os índices de nossos vetores suporte\n",
    "svmfit$index"
   ]
  },
  {
   "cell_type": "markdown",
   "metadata": {},
   "source": [
    "Isso quer dizer que nossa 1ª, 2ª, 5ª, 7ª, 14ª, 16ª e 17ª observações são nossos vetores suportes. "
   ]
  },
  {
   "cell_type": "code",
   "execution_count": 9,
   "metadata": {},
   "outputs": [
    {
     "data": {
      "text/plain": [
       "\n",
       "Call:\n",
       "svm(formula = y ~ ., data = dat, kernel = \"linear\", cost = 10, scale = FALSE)\n",
       "\n",
       "\n",
       "Parameters:\n",
       "   SVM-Type:  C-classification \n",
       " SVM-Kernel:  linear \n",
       "       cost:  10 \n",
       "      gamma:  0.5 \n",
       "\n",
       "Number of Support Vectors:  7\n",
       "\n",
       " ( 4 3 )\n",
       "\n",
       "\n",
       "Number of Classes:  2 \n",
       "\n",
       "Levels: \n",
       " -1 1\n",
       "\n",
       "\n"
      ]
     },
     "metadata": {},
     "output_type": "display_data"
    }
   ],
   "source": [
    "summary(svmfit)"
   ]
  },
  {
   "cell_type": "markdown",
   "metadata": {},
   "source": [
    "Temos 7 vetores suporte, 4 na categoria -1 e 3 na categoria 1. "
   ]
  },
  {
   "cell_type": "markdown",
   "metadata": {},
   "source": [
    "Usamos como custo o valor 10, para achar o valor de custo ideal precisamos usar uma técnica de cross-validation. Para isso podemos usar o tune(afinação) do modelo."
   ]
  },
  {
   "cell_type": "code",
   "execution_count": 10,
   "metadata": {},
   "outputs": [],
   "source": [
    "set.seed(1)\n",
    "tune.out = tune(svm, y~., data=dat, kernel = 'linear', \n",
    "                ranges = list( cost = c(.001, 0.01, 0.1, 1, 5, 10, 100)))"
   ]
  },
  {
   "cell_type": "code",
   "execution_count": 11,
   "metadata": {},
   "outputs": [
    {
     "data": {
      "text/plain": [
       "\n",
       "Parameter tuning of ‘svm’:\n",
       "\n",
       "- sampling method: 10-fold cross validation \n",
       "\n",
       "- best parameters:\n",
       " cost\n",
       "  0.1\n",
       "\n",
       "- best performance: 0.1 \n",
       "\n",
       "- Detailed performance results:\n",
       "   cost error dispersion\n",
       "1 1e-03  0.70  0.4216370\n",
       "2 1e-02  0.70  0.4216370\n",
       "3 1e-01  0.10  0.2108185\n",
       "4 1e+00  0.15  0.2415229\n",
       "5 5e+00  0.15  0.2415229\n",
       "6 1e+01  0.15  0.2415229\n",
       "7 1e+02  0.15  0.2415229\n"
      ]
     },
     "metadata": {},
     "output_type": "display_data"
    }
   ],
   "source": [
    "summary(tune.out)"
   ]
  },
  {
   "cell_type": "markdown",
   "metadata": {},
   "source": [
    "O melhor custo usando foi o 0.1!"
   ]
  },
  {
   "cell_type": "code",
   "execution_count": 17,
   "metadata": {},
   "outputs": [
    {
     "data": {
      "text/plain": [
       "\n",
       "Call:\n",
       "best.tune(method = svm, train.x = y ~ ., data = dat, ranges = list(cost = c(0.001, \n",
       "    0.01, 0.1, 1, 5, 10, 100)), kernel = \"linear\")\n",
       "\n",
       "\n",
       "Parameters:\n",
       "   SVM-Type:  C-classification \n",
       " SVM-Kernel:  linear \n",
       "       cost:  0.1 \n",
       "      gamma:  0.5 \n",
       "\n",
       "Number of Support Vectors:  16\n"
      ]
     },
     "metadata": {},
     "output_type": "display_data"
    }
   ],
   "source": [
    "bestmodel = tune.out$best.model\n",
    "bestmodel"
   ]
  },
  {
   "cell_type": "code",
   "execution_count": 18,
   "metadata": {},
   "outputs": [
    {
     "data": {
      "text/plain": [
       "\n",
       "Call:\n",
       "best.tune(method = svm, train.x = y ~ ., data = dat, ranges = list(cost = c(0.001, \n",
       "    0.01, 0.1, 1, 5, 10, 100)), kernel = \"linear\")\n",
       "\n",
       "\n",
       "Parameters:\n",
       "   SVM-Type:  C-classification \n",
       " SVM-Kernel:  linear \n",
       "       cost:  0.1 \n",
       "      gamma:  0.5 \n",
       "\n",
       "Number of Support Vectors:  16\n",
       "\n",
       " ( 8 8 )\n",
       "\n",
       "\n",
       "Number of Classes:  2 \n",
       "\n",
       "Levels: \n",
       " -1 1\n",
       "\n",
       "\n"
      ]
     },
     "metadata": {},
     "output_type": "display_data"
    }
   ],
   "source": [
    "summary(bestmodel)"
   ]
  },
  {
   "cell_type": "markdown",
   "metadata": {},
   "source": [
    "### Fazendo predições"
   ]
  },
  {
   "cell_type": "markdown",
   "metadata": {},
   "source": [
    "Vamos agora gerar um dataset de teste"
   ]
  },
  {
   "cell_type": "code",
   "execution_count": 16,
   "metadata": {},
   "outputs": [
    {
     "data": {
      "text/html": [
       "<table>\n",
       "<thead><tr><th scope=col>X1</th><th scope=col>X2</th><th scope=col>y</th></tr></thead>\n",
       "<tbody>\n",
       "\t<tr><td>-0.6264538 </td><td> 0.91897737</td><td>-1         </td></tr>\n",
       "\t<tr><td> 0.1836433 </td><td> 0.78213630</td><td>1          </td></tr>\n",
       "\t<tr><td>-0.8356286 </td><td> 0.07456498</td><td>-1         </td></tr>\n",
       "\t<tr><td> 1.5952808 </td><td>-1.98935170</td><td>-1         </td></tr>\n",
       "\t<tr><td> 0.3295078 </td><td> 0.61982575</td><td>1          </td></tr>\n",
       "\t<tr><td>-0.8204684 </td><td>-0.05612874</td><td>-1         </td></tr>\n",
       "\t<tr><td> 0.4874291 </td><td>-0.15579551</td><td>1          </td></tr>\n",
       "\t<tr><td> 0.7383247 </td><td>-1.47075238</td><td>-1         </td></tr>\n",
       "\t<tr><td> 0.5757814 </td><td>-0.47815006</td><td>-1         </td></tr>\n",
       "\t<tr><td>-0.3053884 </td><td> 0.41794156</td><td>-1         </td></tr>\n",
       "\t<tr><td> 2.5117812 </td><td> 2.35867955</td><td>-1         </td></tr>\n",
       "\t<tr><td> 1.3898432 </td><td> 0.89721227</td><td>-1         </td></tr>\n",
       "\t<tr><td> 0.3787594 </td><td> 1.38767161</td><td>1          </td></tr>\n",
       "\t<tr><td>-1.2146999 </td><td> 0.94619496</td><td>1          </td></tr>\n",
       "\t<tr><td> 2.1249309 </td><td>-0.37705956</td><td>1          </td></tr>\n",
       "\t<tr><td> 0.9550664 </td><td> 0.58500544</td><td>1          </td></tr>\n",
       "\t<tr><td> 0.9838097 </td><td> 0.60571005</td><td>-1         </td></tr>\n",
       "\t<tr><td> 1.9438362 </td><td> 0.94068660</td><td>-1         </td></tr>\n",
       "\t<tr><td> 1.8212212 </td><td> 2.10002537</td><td>1          </td></tr>\n",
       "\t<tr><td> 1.5939013 </td><td> 1.76317575</td><td>1          </td></tr>\n",
       "</tbody>\n",
       "</table>\n"
      ],
      "text/latex": [
       "\\begin{tabular}{r|lll}\n",
       " X1 & X2 & y\\\\\n",
       "\\hline\n",
       "\t -0.6264538  &  0.91897737 & -1         \\\\\n",
       "\t  0.1836433  &  0.78213630 & 1          \\\\\n",
       "\t -0.8356286  &  0.07456498 & -1         \\\\\n",
       "\t  1.5952808  & -1.98935170 & -1         \\\\\n",
       "\t  0.3295078  &  0.61982575 & 1          \\\\\n",
       "\t -0.8204684  & -0.05612874 & -1         \\\\\n",
       "\t  0.4874291  & -0.15579551 & 1          \\\\\n",
       "\t  0.7383247  & -1.47075238 & -1         \\\\\n",
       "\t  0.5757814  & -0.47815006 & -1         \\\\\n",
       "\t -0.3053884  &  0.41794156 & -1         \\\\\n",
       "\t  2.5117812  &  2.35867955 & -1         \\\\\n",
       "\t  1.3898432  &  0.89721227 & -1         \\\\\n",
       "\t  0.3787594  &  1.38767161 & 1          \\\\\n",
       "\t -1.2146999  &  0.94619496 & 1          \\\\\n",
       "\t  2.1249309  & -0.37705956 & 1          \\\\\n",
       "\t  0.9550664  &  0.58500544 & 1          \\\\\n",
       "\t  0.9838097  &  0.60571005 & -1         \\\\\n",
       "\t  1.9438362  &  0.94068660 & -1         \\\\\n",
       "\t  1.8212212  &  2.10002537 & 1          \\\\\n",
       "\t  1.5939013  &  1.76317575 & 1          \\\\\n",
       "\\end{tabular}\n"
      ],
      "text/markdown": [
       "\n",
       "X1 | X2 | y | \n",
       "|---|---|---|---|---|---|---|---|---|---|---|---|---|---|---|---|---|---|---|---|\n",
       "| -0.6264538  |  0.91897737 | -1          | \n",
       "|  0.1836433  |  0.78213630 | 1           | \n",
       "| -0.8356286  |  0.07456498 | -1          | \n",
       "|  1.5952808  | -1.98935170 | -1          | \n",
       "|  0.3295078  |  0.61982575 | 1           | \n",
       "| -0.8204684  | -0.05612874 | -1          | \n",
       "|  0.4874291  | -0.15579551 | 1           | \n",
       "|  0.7383247  | -1.47075238 | -1          | \n",
       "|  0.5757814  | -0.47815006 | -1          | \n",
       "| -0.3053884  |  0.41794156 | -1          | \n",
       "|  2.5117812  |  2.35867955 | -1          | \n",
       "|  1.3898432  |  0.89721227 | -1          | \n",
       "|  0.3787594  |  1.38767161 | 1           | \n",
       "| -1.2146999  |  0.94619496 | 1           | \n",
       "|  2.1249309  | -0.37705956 | 1           | \n",
       "|  0.9550664  |  0.58500544 | 1           | \n",
       "|  0.9838097  |  0.60571005 | -1          | \n",
       "|  1.9438362  |  0.94068660 | -1          | \n",
       "|  1.8212212  |  2.10002537 | 1           | \n",
       "|  1.5939013  |  1.76317575 | 1           | \n",
       "\n",
       "\n"
      ],
      "text/plain": [
       "   X1         X2          y \n",
       "1  -0.6264538  0.91897737 -1\n",
       "2   0.1836433  0.78213630 1 \n",
       "3  -0.8356286  0.07456498 -1\n",
       "4   1.5952808 -1.98935170 -1\n",
       "5   0.3295078  0.61982575 1 \n",
       "6  -0.8204684 -0.05612874 -1\n",
       "7   0.4874291 -0.15579551 1 \n",
       "8   0.7383247 -1.47075238 -1\n",
       "9   0.5757814 -0.47815006 -1\n",
       "10 -0.3053884  0.41794156 -1\n",
       "11  2.5117812  2.35867955 -1\n",
       "12  1.3898432  0.89721227 -1\n",
       "13  0.3787594  1.38767161 1 \n",
       "14 -1.2146999  0.94619496 1 \n",
       "15  2.1249309 -0.37705956 1 \n",
       "16  0.9550664  0.58500544 1 \n",
       "17  0.9838097  0.60571005 -1\n",
       "18  1.9438362  0.94068660 -1\n",
       "19  1.8212212  2.10002537 1 \n",
       "20  1.5939013  1.76317575 1 "
      ]
     },
     "metadata": {},
     "output_type": "display_data"
    }
   ],
   "source": [
    "set.seed(1)\n",
    "\n",
    "xtest = matrix(rnorm(20*2), ncol = 2)\n",
    "ytest = sample(c(-1, 1), 20, rep=TRUE) # amostra aleatória simples com reposição \n",
    "xtest[y==1,] = xtest[y==1,] + 1\n",
    "testdat = data.frame(xtest, y=as.factor(x = ytest))\n",
    "testdat"
   ]
  },
  {
   "cell_type": "code",
   "execution_count": 19,
   "metadata": {},
   "outputs": [],
   "source": [
    "ypred = predict(bestmodel, testdat)"
   ]
  },
  {
   "cell_type": "code",
   "execution_count": 20,
   "metadata": {},
   "outputs": [
    {
     "data": {
      "text/html": [
       "<dl class=dl-horizontal>\n",
       "\t<dt>1</dt>\n",
       "\t\t<dd>-1</dd>\n",
       "\t<dt>2</dt>\n",
       "\t\t<dd>-1</dd>\n",
       "\t<dt>3</dt>\n",
       "\t\t<dd>-1</dd>\n",
       "\t<dt>4</dt>\n",
       "\t\t<dd>-1</dd>\n",
       "\t<dt>5</dt>\n",
       "\t\t<dd>-1</dd>\n",
       "\t<dt>6</dt>\n",
       "\t\t<dd>-1</dd>\n",
       "\t<dt>7</dt>\n",
       "\t\t<dd>-1</dd>\n",
       "\t<dt>8</dt>\n",
       "\t\t<dd>-1</dd>\n",
       "\t<dt>9</dt>\n",
       "\t\t<dd>-1</dd>\n",
       "\t<dt>10</dt>\n",
       "\t\t<dd>-1</dd>\n",
       "\t<dt>11</dt>\n",
       "\t\t<dd>1</dd>\n",
       "\t<dt>12</dt>\n",
       "\t\t<dd>1</dd>\n",
       "\t<dt>13</dt>\n",
       "\t\t<dd>1</dd>\n",
       "\t<dt>14</dt>\n",
       "\t\t<dd>-1</dd>\n",
       "\t<dt>15</dt>\n",
       "\t\t<dd>1</dd>\n",
       "\t<dt>16</dt>\n",
       "\t\t<dd>1</dd>\n",
       "\t<dt>17</dt>\n",
       "\t\t<dd>1</dd>\n",
       "\t<dt>18</dt>\n",
       "\t\t<dd>1</dd>\n",
       "\t<dt>19</dt>\n",
       "\t\t<dd>1</dd>\n",
       "\t<dt>20</dt>\n",
       "\t\t<dd>1</dd>\n",
       "</dl>\n"
      ],
      "text/latex": [
       "\\begin{description*}\n",
       "\\item[1] -1\n",
       "\\item[2] -1\n",
       "\\item[3] -1\n",
       "\\item[4] -1\n",
       "\\item[5] -1\n",
       "\\item[6] -1\n",
       "\\item[7] -1\n",
       "\\item[8] -1\n",
       "\\item[9] -1\n",
       "\\item[10] -1\n",
       "\\item[11] 1\n",
       "\\item[12] 1\n",
       "\\item[13] 1\n",
       "\\item[14] -1\n",
       "\\item[15] 1\n",
       "\\item[16] 1\n",
       "\\item[17] 1\n",
       "\\item[18] 1\n",
       "\\item[19] 1\n",
       "\\item[20] 1\n",
       "\\end{description*}\n"
      ],
      "text/markdown": [
       "1\n",
       ":   -12\n",
       ":   -13\n",
       ":   -14\n",
       ":   -15\n",
       ":   -16\n",
       ":   -17\n",
       ":   -18\n",
       ":   -19\n",
       ":   -110\n",
       ":   -111\n",
       ":   112\n",
       ":   113\n",
       ":   114\n",
       ":   -115\n",
       ":   116\n",
       ":   117\n",
       ":   118\n",
       ":   119\n",
       ":   120\n",
       ":   1\n",
       "\n"
      ],
      "text/plain": [
       " 1  2  3  4  5  6  7  8  9 10 11 12 13 14 15 16 17 18 19 20 \n",
       "-1 -1 -1 -1 -1 -1 -1 -1 -1 -1  1  1  1 -1  1  1  1  1  1  1 \n",
       "Levels: -1 1"
      ]
     },
     "metadata": {},
     "output_type": "display_data"
    }
   ],
   "source": [
    "ypred"
   ]
  },
  {
   "cell_type": "code",
   "execution_count": 21,
   "metadata": {},
   "outputs": [
    {
     "data": {
      "text/plain": [
       "       truth\n",
       "predict -1 1\n",
       "     -1  7 4\n",
       "     1   4 5"
      ]
     },
     "metadata": {},
     "output_type": "display_data"
    }
   ],
   "source": [
    "# criando a matriz de confusão\n",
    "table(predict = ypred, truth = testdat$y)"
   ]
  },
  {
   "cell_type": "markdown",
   "metadata": {},
   "source": [
    "### Usando Kernel"
   ]
  },
  {
   "cell_type": "code",
   "execution_count": 25,
   "metadata": {},
   "outputs": [
    {
     "data": {
      "text/html": [
       "<table>\n",
       "<thead><tr><th scope=col>X1</th><th scope=col>X2</th><th scope=col>y</th></tr></thead>\n",
       "<tbody>\n",
       "\t<tr><td>1.373546  </td><td> 2.4094018</td><td>1         </td></tr>\n",
       "\t<tr><td>2.183643  </td><td> 3.6888733</td><td>1         </td></tr>\n",
       "\t<tr><td>1.164371  </td><td> 3.5865884</td><td>1         </td></tr>\n",
       "\t<tr><td>3.595281  </td><td> 1.6690922</td><td>1         </td></tr>\n",
       "\t<tr><td>2.329508  </td><td>-0.2852355</td><td>1         </td></tr>\n",
       "\t<tr><td>1.179532  </td><td> 4.4976616</td><td>1         </td></tr>\n",
       "</tbody>\n",
       "</table>\n"
      ],
      "text/latex": [
       "\\begin{tabular}{r|lll}\n",
       " X1 & X2 & y\\\\\n",
       "\\hline\n",
       "\t 1.373546   &  2.4094018 & 1         \\\\\n",
       "\t 2.183643   &  3.6888733 & 1         \\\\\n",
       "\t 1.164371   &  3.5865884 & 1         \\\\\n",
       "\t 3.595281   &  1.6690922 & 1         \\\\\n",
       "\t 2.329508   & -0.2852355 & 1         \\\\\n",
       "\t 1.179532   &  4.4976616 & 1         \\\\\n",
       "\\end{tabular}\n"
      ],
      "text/markdown": [
       "\n",
       "X1 | X2 | y | \n",
       "|---|---|---|---|---|---|\n",
       "| 1.373546   |  2.4094018 | 1          | \n",
       "| 2.183643   |  3.6888733 | 1          | \n",
       "| 1.164371   |  3.5865884 | 1          | \n",
       "| 3.595281   |  1.6690922 | 1          | \n",
       "| 2.329508   | -0.2852355 | 1          | \n",
       "| 1.179532   |  4.4976616 | 1          | \n",
       "\n",
       "\n"
      ],
      "text/plain": [
       "  X1       X2         y\n",
       "1 1.373546  2.4094018 1\n",
       "2 2.183643  3.6888733 1\n",
       "3 1.164371  3.5865884 1\n",
       "4 3.595281  1.6690922 1\n",
       "5 2.329508 -0.2852355 1\n",
       "6 1.179532  4.4976616 1"
      ]
     },
     "metadata": {},
     "output_type": "display_data"
    }
   ],
   "source": [
    "# Kernel = \"radial\" -> usa-se o kernel radial precisa configurar gama\n",
    "# kernel = \"polynomial\" usa-se o kernel polinomial, é preciso fixar o grau do polinômio\n",
    "\n",
    "set.seed(1)\n",
    "x = matrix(rnorm(400), ncol = 2)\n",
    "x[1:100,] = x[1:100,] + 2\n",
    "x[101:150] = x[101:150] - 2\n",
    "y = c(rep(1,150), rep(2,50))\n",
    "dat = data.frame(x, y=as.factor(y))\n",
    "head(dat)"
   ]
  },
  {
   "cell_type": "code",
   "execution_count": 26,
   "metadata": {},
   "outputs": [
    {
     "data": {
      "image/png": "[encoded data removed]",
      "text/plain": [
       "plot without title"
      ]
     },
     "metadata": {},
     "output_type": "display_data"
    }
   ],
   "source": [
    "plot(x, col = y)"
   ]
  },
  {
   "cell_type": "markdown",
   "metadata": {},
   "source": [
    "Os dados acima não são linearmente separáveis, então iremos usar o método do kernel"
   ]
  },
  {
   "cell_type": "code",
   "execution_count": 31,
   "metadata": {},
   "outputs": [
    {
     "data": {
      "text/html": [
       "<ol class=list-inline>\n",
       "\t<li>54</li>\n",
       "\t<li>75</li>\n",
       "\t<li>114</li>\n",
       "\t<li>179</li>\n",
       "\t<li>40</li>\n",
       "\t<li>176</li>\n",
       "\t<li>184</li>\n",
       "\t<li>128</li>\n",
       "\t<li>121</li>\n",
       "\t<li>12</li>\n",
       "\t<li>196</li>\n",
       "\t<li>34</li>\n",
       "\t<li>130</li>\n",
       "\t<li>72</li>\n",
       "\t<li>144</li>\n",
       "\t<li>93</li>\n",
       "\t<li>133</li>\n",
       "\t<li>182</li>\n",
       "\t<li>70</li>\n",
       "\t<li>141</li>\n",
       "\t<li>169</li>\n",
       "\t<li>38</li>\n",
       "\t<li>116</li>\n",
       "\t<li>23</li>\n",
       "\t<li>48</li>\n",
       "\t<li>68</li>\n",
       "\t<li>3</li>\n",
       "\t<li>67</li>\n",
       "\t<li>150</li>\n",
       "\t<li>59</li>\n",
       "\t<li>82</li>\n",
       "\t<li>102</li>\n",
       "\t<li>83</li>\n",
       "\t<li>32</li>\n",
       "\t<li>138</li>\n",
       "\t<li>111</li>\n",
       "\t<li>131</li>\n",
       "\t<li>18</li>\n",
       "\t<li>118</li>\n",
       "\t<li>173</li>\n",
       "\t<li>132</li>\n",
       "\t<li>103</li>\n",
       "\t<li>124</li>\n",
       "\t<li>87</li>\n",
       "\t<li>168</li>\n",
       "\t<li>123</li>\n",
       "\t<li>4</li>\n",
       "\t<li>74</li>\n",
       "\t<li>112</li>\n",
       "\t<li>105</li>\n",
       "\t<li>187</li>\n",
       "\t<li>129</li>\n",
       "\t<li>65</li>\n",
       "\t<li>36</li>\n",
       "\t<li>11</li>\n",
       "\t<li>15</li>\n",
       "\t<li>46</li>\n",
       "\t<li>199</li>\n",
       "\t<li>95</li>\n",
       "\t<li>58</li>\n",
       "\t<li>193</li>\n",
       "\t<li>41</li>\n",
       "\t<li>64</li>\n",
       "\t<li>186</li>\n",
       "\t<li>89</li>\n",
       "\t<li>35</li>\n",
       "\t<li>148</li>\n",
       "\t<li>180</li>\n",
       "\t<li>191</li>\n",
       "\t<li>115</li>\n",
       "\t<li>45</li>\n",
       "\t<li>109</li>\n",
       "\t<li>188</li>\n",
       "\t<li>43</li>\n",
       "\t<li>61</li>\n",
       "\t<li>152</li>\n",
       "\t<li>108</li>\n",
       "\t<li>195</li>\n",
       "\t<li>142</li>\n",
       "\t<li>117</li>\n",
       "\t<li>53</li>\n",
       "\t<li>85</li>\n",
       "\t<li>155</li>\n",
       "\t<li>39</li>\n",
       "\t<li>88</li>\n",
       "\t<li>24</li>\n",
       "\t<li>170</li>\n",
       "\t<li>14</li>\n",
       "\t<li>28</li>\n",
       "\t<li>16</li>\n",
       "\t<li>27</li>\n",
       "\t<li>7</li>\n",
       "\t<li>183</li>\n",
       "\t<li>94</li>\n",
       "\t<li>156</li>\n",
       "\t<li>84</li>\n",
       "\t<li>162</li>\n",
       "\t<li>127</li>\n",
       "\t<li>106</li>\n",
       "\t<li>62</li>\n",
       "</ol>\n"
      ],
      "text/latex": [
       "\\begin{enumerate*}\n",
       "\\item 54\n",
       "\\item 75\n",
       "\\item 114\n",
       "\\item 179\n",
       "\\item 40\n",
       "\\item 176\n",
       "\\item 184\n",
       "\\item 128\n",
       "\\item 121\n",
       "\\item 12\n",
       "\\item 196\n",
       "\\item 34\n",
       "\\item 130\n",
       "\\item 72\n",
       "\\item 144\n",
       "\\item 93\n",
       "\\item 133\n",
       "\\item 182\n",
       "\\item 70\n",
       "\\item 141\n",
       "\\item 169\n",
       "\\item 38\n",
       "\\item 116\n",
       "\\item 23\n",
       "\\item 48\n",
       "\\item 68\n",
       "\\item 3\n",
       "\\item 67\n",
       "\\item 150\n",
       "\\item 59\n",
       "\\item 82\n",
       "\\item 102\n",
       "\\item 83\n",
       "\\item 32\n",
       "\\item 138\n",
       "\\item 111\n",
       "\\item 131\n",
       "\\item 18\n",
       "\\item 118\n",
       "\\item 173\n",
       "\\item 132\n",
       "\\item 103\n",
       "\\item 124\n",
       "\\item 87\n",
       "\\item 168\n",
       "\\item 123\n",
       "\\item 4\n",
       "\\item 74\n",
       "\\item 112\n",
       "\\item 105\n",
       "\\item 187\n",
       "\\item 129\n",
       "\\item 65\n",
       "\\item 36\n",
       "\\item 11\n",
       "\\item 15\n",
       "\\item 46\n",
       "\\item 199\n",
       "\\item 95\n",
       "\\item 58\n",
       "\\item 193\n",
       "\\item 41\n",
       "\\item 64\n",
       "\\item 186\n",
       "\\item 89\n",
       "\\item 35\n",
       "\\item 148\n",
       "\\item 180\n",
       "\\item 191\n",
       "\\item 115\n",
       "\\item 45\n",
       "\\item 109\n",
       "\\item 188\n",
       "\\item 43\n",
       "\\item 61\n",
       "\\item 152\n",
       "\\item 108\n",
       "\\item 195\n",
       "\\item 142\n",
       "\\item 117\n",
       "\\item 53\n",
       "\\item 85\n",
       "\\item 155\n",
       "\\item 39\n",
       "\\item 88\n",
       "\\item 24\n",
       "\\item 170\n",
       "\\item 14\n",
       "\\item 28\n",
       "\\item 16\n",
       "\\item 27\n",
       "\\item 7\n",
       "\\item 183\n",
       "\\item 94\n",
       "\\item 156\n",
       "\\item 84\n",
       "\\item 162\n",
       "\\item 127\n",
       "\\item 106\n",
       "\\item 62\n",
       "\\end{enumerate*}\n"
      ],
      "text/markdown": [
       "1. 54\n",
       "2. 75\n",
       "3. 114\n",
       "4. 179\n",
       "5. 40\n",
       "6. 176\n",
       "7. 184\n",
       "8. 128\n",
       "9. 121\n",
       "10. 12\n",
       "11. 196\n",
       "12. 34\n",
       "13. 130\n",
       "14. 72\n",
       "15. 144\n",
       "16. 93\n",
       "17. 133\n",
       "18. 182\n",
       "19. 70\n",
       "20. 141\n",
       "21. 169\n",
       "22. 38\n",
       "23. 116\n",
       "24. 23\n",
       "25. 48\n",
       "26. 68\n",
       "27. 3\n",
       "28. 67\n",
       "29. 150\n",
       "30. 59\n",
       "31. 82\n",
       "32. 102\n",
       "33. 83\n",
       "34. 32\n",
       "35. 138\n",
       "36. 111\n",
       "37. 131\n",
       "38. 18\n",
       "39. 118\n",
       "40. 173\n",
       "41. 132\n",
       "42. 103\n",
       "43. 124\n",
       "44. 87\n",
       "45. 168\n",
       "46. 123\n",
       "47. 4\n",
       "48. 74\n",
       "49. 112\n",
       "50. 105\n",
       "51. 187\n",
       "52. 129\n",
       "53. 65\n",
       "54. 36\n",
       "55. 11\n",
       "56. 15\n",
       "57. 46\n",
       "58. 199\n",
       "59. 95\n",
       "60. 58\n",
       "61. 193\n",
       "62. 41\n",
       "63. 64\n",
       "64. 186\n",
       "65. 89\n",
       "66. 35\n",
       "67. 148\n",
       "68. 180\n",
       "69. 191\n",
       "70. 115\n",
       "71. 45\n",
       "72. 109\n",
       "73. 188\n",
       "74. 43\n",
       "75. 61\n",
       "76. 152\n",
       "77. 108\n",
       "78. 195\n",
       "79. 142\n",
       "80. 117\n",
       "81. 53\n",
       "82. 85\n",
       "83. 155\n",
       "84. 39\n",
       "85. 88\n",
       "86. 24\n",
       "87. 170\n",
       "88. 14\n",
       "89. 28\n",
       "90. 16\n",
       "91. 27\n",
       "92. 7\n",
       "93. 183\n",
       "94. 94\n",
       "95. 156\n",
       "96. 84\n",
       "97. 162\n",
       "98. 127\n",
       "99. 106\n",
       "100. 62\n",
       "\n",
       "\n"
      ],
      "text/plain": [
       "  [1]  54  75 114 179  40 176 184 128 121  12 196  34 130  72 144  93 133 182\n",
       " [19]  70 141 169  38 116  23  48  68   3  67 150  59  82 102  83  32 138 111\n",
       " [37] 131  18 118 173 132 103 124  87 168 123   4  74 112 105 187 129  65  36\n",
       " [55]  11  15  46 199  95  58 193  41  64 186  89  35 148 180 191 115  45 109\n",
       " [73] 188  43  61 152 108 195 142 117  53  85 155  39  88  24 170  14  28  16\n",
       " [91]  27   7 183  94 156  84 162 127 106  62"
      ]
     },
     "metadata": {},
     "output_type": "display_data"
    }
   ],
   "source": [
    "# índices do nosso dataset\n",
    "# que iremos usar\n",
    "set.seed(1)\n",
    "train = sample(200, 100)\n",
    "train"
   ]
  },
  {
   "cell_type": "code",
   "execution_count": 33,
   "metadata": {},
   "outputs": [],
   "source": [
    "svmfit = svm(y ~ ., dat[train, ], kernel = \"radial\", gama=1, cost=1)"
   ]
  },
  {
   "cell_type": "code",
   "execution_count": 34,
   "metadata": {},
   "outputs": [
    {
     "data": {
      "image/png": "[encoded data removed]",
      "text/plain": [
       "Plot with title “SVM classification plot”"
      ]
     },
     "metadata": {},
     "output_type": "display_data"
    }
   ],
   "source": [
    "plot(svmfit, dat[train,])"
   ]
  },
  {
   "cell_type": "code",
   "execution_count": 35,
   "metadata": {},
   "outputs": [
    {
     "data": {
      "text/plain": [
       "\n",
       "Call:\n",
       "svm(formula = y ~ ., data = dat[train, ], kernel = \"radial\", gama = 1, \n",
       "    cost = 1)\n",
       "\n",
       "\n",
       "Parameters:\n",
       "   SVM-Type:  C-classification \n",
       " SVM-Kernel:  radial \n",
       "       cost:  1 \n",
       "      gamma:  0.5 \n",
       "\n",
       "Number of Support Vectors:  42\n",
       "\n",
       " ( 23 19 )\n",
       "\n",
       "\n",
       "Number of Classes:  2 \n",
       "\n",
       "Levels: \n",
       " 1 2\n",
       "\n",
       "\n"
      ]
     },
     "metadata": {},
     "output_type": "display_data"
    }
   ],
   "source": [
    "summary(svmfit)"
   ]
  },
  {
   "cell_type": "code",
   "execution_count": 36,
   "metadata": {},
   "outputs": [
    {
     "data": {
      "image/png": "[encoded data removed]",
      "text/plain": [
       "Plot with title “SVM classification plot”"
      ]
     },
     "metadata": {},
     "output_type": "display_data"
    }
   ],
   "source": [
    "# usando custo maior\n",
    "svmfit = svm(y ~ ., dat[train, ], kernel = \"radial\", gama=1, cost=100000)\n",
    "plot(svmfit, dat[train,])"
   ]
  },
  {
   "cell_type": "code",
   "execution_count": 37,
   "metadata": {},
   "outputs": [],
   "source": [
    "# Vamos usar técnica de cross validation \n",
    "# para escolher melhor custo\n",
    "tune.out = tune(svm, y ~ ., data=dat[train,], kernel = 'radial',\n",
    "               ranges = list(cost = c(0.1, 1, 10, 100, 1000)),\n",
    "               gama = c(0.5, 1, 2, 3, 4))"
   ]
  },
  {
   "cell_type": "code",
   "execution_count": 38,
   "metadata": {},
   "outputs": [
    {
     "data": {
      "text/plain": [
       "\n",
       "Parameter tuning of ‘svm’:\n",
       "\n",
       "- sampling method: 10-fold cross validation \n",
       "\n",
       "- best parameters:\n",
       " cost\n",
       "   10\n",
       "\n",
       "- best performance: 0.13 \n",
       "\n",
       "- Detailed performance results:\n",
       "   cost error dispersion\n",
       "1 1e-01  0.22 0.14757296\n",
       "2 1e+00  0.14 0.10749677\n",
       "3 1e+01  0.13 0.09486833\n",
       "4 1e+02  0.15 0.10801234\n",
       "5 1e+03  0.17 0.11595018\n"
      ]
     },
     "metadata": {},
     "output_type": "display_data"
    }
   ],
   "source": [
    "summary(tune.out)"
   ]
  },
  {
   "cell_type": "code",
   "execution_count": 40,
   "metadata": {},
   "outputs": [
    {
     "data": {
      "text/plain": [
       "\n",
       "Call:\n",
       "best.tune(method = svm, train.x = y ~ ., data = dat[train, ], ranges = list(cost = c(0.1, \n",
       "    1, 10, 100, 1000)), kernel = \"radial\", gama = c(0.5, 1, 2, 3, \n",
       "    4))\n",
       "\n",
       "\n",
       "Parameters:\n",
       "   SVM-Type:  C-classification \n",
       " SVM-Kernel:  radial \n",
       "       cost:  10 \n",
       "      gamma:  0.5 \n",
       "\n",
       "Number of Support Vectors:  32\n"
      ]
     },
     "metadata": {},
     "output_type": "display_data"
    }
   ],
   "source": [
    "bestmodel = tune.out$best.model\n",
    "bestmodel"
   ]
  },
  {
   "cell_type": "code",
   "execution_count": 41,
   "metadata": {},
   "outputs": [
    {
     "data": {
      "image/png": "[encoded data removed]",
      "text/plain": [
       "Plot with title “SVM classification plot”"
      ]
     },
     "metadata": {},
     "output_type": "display_data"
    }
   ],
   "source": [
    "plot(bestmodel, dat[train,])"
   ]
  },
  {
   "cell_type": "code",
   "execution_count": 42,
   "metadata": {},
   "outputs": [
    {
     "data": {
      "text/plain": [
       "    pred\n",
       "true  1  2\n",
       "   1 61 11\n",
       "   2 15 13"
      ]
     },
     "metadata": {},
     "output_type": "display_data"
    }
   ],
   "source": [
    "# Fazendo previsão\n",
    "test = -train\n",
    "table(true=dat[test, \"y\"], pred = predict(bestmodel, news=dat[test,]))"
   ]
  },
  {
   "cell_type": "code",
   "execution_count": null,
   "metadata": {},
   "outputs": [],
   "source": []
  }
 ],
 "metadata": {
  "kernelspec": {
   "display_name": "R",
   "language": "R",
   "name": "ir"
  },
  "language_info": {
   "codemirror_mode": "r",
   "file_extension": ".r",
   "mimetype": "text/x-r-source",
   "name": "R",
   "pygments_lexer": "r",
   "version": "3.4.4"
  }
 },
 "nbformat": 4,
 "nbformat_minor": 2
}
