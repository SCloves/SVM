{
 "cells": [
  {
   "cell_type": "markdown",
   "metadata": {},
   "source": [
    "# Suport Vector Machine (SVM)"
   ]
  },
  {
   "cell_type": "markdown",
   "metadata": {},
   "source": [
    "O objetivo de um SVM é encontrar o hiperplano de separação ideal o qual maximiza a margem da base de treinamento.\n",
    "\n",
    "A primeira coisa que notamos nesta definição, é que o SVM precisa de uma base de treinamento. O que quer dizer que é um algoritmo de aprendizado supervisionado.\n",
    "\n",
    "Também é importante saber que o SVM é um algoritmo de classificação. Isso quer dizer que iremos usá-lo para predizer se algo pertence a uma classe particular."
   ]
  },
  {
   "cell_type": "markdown",
   "metadata": {},
   "source": [
    "Para uma explicação mais intuitiva e visual assista [How Support Vector Machines work / How to open a black box](https://www.youtube.com/watch?v=-Z4aojJ-pdg)"
   ]
  },
  {
   "cell_type": "markdown",
   "metadata": {},
   "source": [
    "### Gerando dados artificiais"
   ]
  },
  {
   "cell_type": "markdown",
   "metadata": {},
   "source": [
    "Vamos criar uma matriz com duas colunas e vinte linhas."
   ]
  },
  {
   "cell_type": "code",
   "execution_count": 3,
   "metadata": {},
   "outputs": [
    {
     "data": {
      "text/html": [
       "<table>\n",
       "<tbody>\n",
       "\t<tr><td>-0.62645381</td><td> 0.91897737</td></tr>\n",
       "\t<tr><td> 0.18364332</td><td> 0.78213630</td></tr>\n",
       "\t<tr><td>-0.83562861</td><td> 0.07456498</td></tr>\n",
       "\t<tr><td> 1.59528080</td><td>-1.98935170</td></tr>\n",
       "\t<tr><td> 0.32950777</td><td> 0.61982575</td></tr>\n",
       "\t<tr><td>-0.82046838</td><td>-0.05612874</td></tr>\n",
       "\t<tr><td> 0.48742905</td><td>-0.15579551</td></tr>\n",
       "\t<tr><td> 0.73832471</td><td>-1.47075238</td></tr>\n",
       "\t<tr><td> 0.57578135</td><td>-0.47815006</td></tr>\n",
       "\t<tr><td>-0.30538839</td><td> 0.41794156</td></tr>\n",
       "\t<tr><td> 1.51178117</td><td> 1.35867955</td></tr>\n",
       "\t<tr><td> 0.38984324</td><td>-0.10278773</td></tr>\n",
       "\t<tr><td>-0.62124058</td><td> 0.38767161</td></tr>\n",
       "\t<tr><td>-2.21469989</td><td>-0.05380504</td></tr>\n",
       "\t<tr><td> 1.12493092</td><td>-1.37705956</td></tr>\n",
       "\t<tr><td>-0.04493361</td><td>-0.41499456</td></tr>\n",
       "\t<tr><td>-0.01619026</td><td>-0.39428995</td></tr>\n",
       "\t<tr><td> 0.94383621</td><td>-0.05931340</td></tr>\n",
       "\t<tr><td> 0.82122120</td><td> 1.10002537</td></tr>\n",
       "\t<tr><td> 0.59390132</td><td> 0.76317575</td></tr>\n",
       "</tbody>\n",
       "</table>\n"
      ],
      "text/latex": [
       "\\begin{tabular}{ll}\n",
       "\t -0.62645381 &  0.91897737\\\\\n",
       "\t  0.18364332 &  0.78213630\\\\\n",
       "\t -0.83562861 &  0.07456498\\\\\n",
       "\t  1.59528080 & -1.98935170\\\\\n",
       "\t  0.32950777 &  0.61982575\\\\\n",
       "\t -0.82046838 & -0.05612874\\\\\n",
       "\t  0.48742905 & -0.15579551\\\\\n",
       "\t  0.73832471 & -1.47075238\\\\\n",
       "\t  0.57578135 & -0.47815006\\\\\n",
       "\t -0.30538839 &  0.41794156\\\\\n",
       "\t  1.51178117 &  1.35867955\\\\\n",
       "\t  0.38984324 & -0.10278773\\\\\n",
       "\t -0.62124058 &  0.38767161\\\\\n",
       "\t -2.21469989 & -0.05380504\\\\\n",
       "\t  1.12493092 & -1.37705956\\\\\n",
       "\t -0.04493361 & -0.41499456\\\\\n",
       "\t -0.01619026 & -0.39428995\\\\\n",
       "\t  0.94383621 & -0.05931340\\\\\n",
       "\t  0.82122120 &  1.10002537\\\\\n",
       "\t  0.59390132 &  0.76317575\\\\\n",
       "\\end{tabular}\n"
      ],
      "text/markdown": [
       "\n",
       "| -0.62645381 |  0.91897737 | \n",
       "|  0.18364332 |  0.78213630 | \n",
       "| -0.83562861 |  0.07456498 | \n",
       "|  1.59528080 | -1.98935170 | \n",
       "|  0.32950777 |  0.61982575 | \n",
       "| -0.82046838 | -0.05612874 | \n",
       "|  0.48742905 | -0.15579551 | \n",
       "|  0.73832471 | -1.47075238 | \n",
       "|  0.57578135 | -0.47815006 | \n",
       "| -0.30538839 |  0.41794156 | \n",
       "|  1.51178117 |  1.35867955 | \n",
       "|  0.38984324 | -0.10278773 | \n",
       "| -0.62124058 |  0.38767161 | \n",
       "| -2.21469989 | -0.05380504 | \n",
       "|  1.12493092 | -1.37705956 | \n",
       "| -0.04493361 | -0.41499456 | \n",
       "| -0.01619026 | -0.39428995 | \n",
       "|  0.94383621 | -0.05931340 | \n",
       "|  0.82122120 |  1.10002537 | \n",
       "|  0.59390132 |  0.76317575 | \n",
       "\n",
       "\n"
      ],
      "text/plain": [
       "      [,1]        [,2]       \n",
       " [1,] -0.62645381  0.91897737\n",
       " [2,]  0.18364332  0.78213630\n",
       " [3,] -0.83562861  0.07456498\n",
       " [4,]  1.59528080 -1.98935170\n",
       " [5,]  0.32950777  0.61982575\n",
       " [6,] -0.82046838 -0.05612874\n",
       " [7,]  0.48742905 -0.15579551\n",
       " [8,]  0.73832471 -1.47075238\n",
       " [9,]  0.57578135 -0.47815006\n",
       "[10,] -0.30538839  0.41794156\n",
       "[11,]  1.51178117  1.35867955\n",
       "[12,]  0.38984324 -0.10278773\n",
       "[13,] -0.62124058  0.38767161\n",
       "[14,] -2.21469989 -0.05380504\n",
       "[15,]  1.12493092 -1.37705956\n",
       "[16,] -0.04493361 -0.41499456\n",
       "[17,] -0.01619026 -0.39428995\n",
       "[18,]  0.94383621 -0.05931340\n",
       "[19,]  0.82122120  1.10002537\n",
       "[20,]  0.59390132  0.76317575"
      ]
     },
     "metadata": {},
     "output_type": "display_data"
    }
   ],
   "source": [
    "set.seed(1)\n",
    "\n",
    "x = matrix(rnorm(20*2), ncol = 2)\n",
    "x"
   ]
  },
  {
   "cell_type": "code",
   "execution_count": 4,
   "metadata": {},
   "outputs": [
    {
     "data": {
      "text/html": [
       "<ol class=list-inline>\n",
       "\t<li>-1</li>\n",
       "\t<li>-1</li>\n",
       "\t<li>-1</li>\n",
       "\t<li>-1</li>\n",
       "\t<li>-1</li>\n",
       "\t<li>-1</li>\n",
       "\t<li>-1</li>\n",
       "\t<li>-1</li>\n",
       "\t<li>-1</li>\n",
       "\t<li>-1</li>\n",
       "\t<li>1</li>\n",
       "\t<li>1</li>\n",
       "\t<li>1</li>\n",
       "\t<li>1</li>\n",
       "\t<li>1</li>\n",
       "\t<li>1</li>\n",
       "\t<li>1</li>\n",
       "\t<li>1</li>\n",
       "\t<li>1</li>\n",
       "\t<li>1</li>\n",
       "</ol>\n"
      ],
      "text/latex": [
       "\\begin{enumerate*}\n",
       "\\item -1\n",
       "\\item -1\n",
       "\\item -1\n",
       "\\item -1\n",
       "\\item -1\n",
       "\\item -1\n",
       "\\item -1\n",
       "\\item -1\n",
       "\\item -1\n",
       "\\item -1\n",
       "\\item 1\n",
       "\\item 1\n",
       "\\item 1\n",
       "\\item 1\n",
       "\\item 1\n",
       "\\item 1\n",
       "\\item 1\n",
       "\\item 1\n",
       "\\item 1\n",
       "\\item 1\n",
       "\\end{enumerate*}\n"
      ],
      "text/markdown": [
       "1. -1\n",
       "2. -1\n",
       "3. -1\n",
       "4. -1\n",
       "5. -1\n",
       "6. -1\n",
       "7. -1\n",
       "8. -1\n",
       "9. -1\n",
       "10. -1\n",
       "11. 1\n",
       "12. 1\n",
       "13. 1\n",
       "14. 1\n",
       "15. 1\n",
       "16. 1\n",
       "17. 1\n",
       "18. 1\n",
       "19. 1\n",
       "20. 1\n",
       "\n",
       "\n"
      ],
      "text/plain": [
       " [1] -1 -1 -1 -1 -1 -1 -1 -1 -1 -1  1  1  1  1  1  1  1  1  1  1"
      ]
     },
     "metadata": {},
     "output_type": "display_data"
    }
   ],
   "source": [
    "# gerando a variável resposta\n",
    "y = c(rep(-1, 10), rep(1,10))\n",
    "y"
   ]
  },
  {
   "cell_type": "markdown",
   "metadata": {},
   "source": [
    "Agora vamos adicionar mais 1 nos últimos 10 valores da nossa matriz x"
   ]
  },
  {
   "cell_type": "code",
   "execution_count": 5,
   "metadata": {},
   "outputs": [
    {
     "data": {
      "text/html": [
       "<table>\n",
       "<tbody>\n",
       "\t<tr><td>-0.6264538 </td><td> 0.91897737</td></tr>\n",
       "\t<tr><td> 0.1836433 </td><td> 0.78213630</td></tr>\n",
       "\t<tr><td>-0.8356286 </td><td> 0.07456498</td></tr>\n",
       "\t<tr><td> 1.5952808 </td><td>-1.98935170</td></tr>\n",
       "\t<tr><td> 0.3295078 </td><td> 0.61982575</td></tr>\n",
       "\t<tr><td>-0.8204684 </td><td>-0.05612874</td></tr>\n",
       "\t<tr><td> 0.4874291 </td><td>-0.15579551</td></tr>\n",
       "\t<tr><td> 0.7383247 </td><td>-1.47075238</td></tr>\n",
       "\t<tr><td> 0.5757814 </td><td>-0.47815006</td></tr>\n",
       "\t<tr><td>-0.3053884 </td><td> 0.41794156</td></tr>\n",
       "\t<tr><td> 2.5117812 </td><td> 2.35867955</td></tr>\n",
       "\t<tr><td> 1.3898432 </td><td> 0.89721227</td></tr>\n",
       "\t<tr><td> 0.3787594 </td><td> 1.38767161</td></tr>\n",
       "\t<tr><td>-1.2146999 </td><td> 0.94619496</td></tr>\n",
       "\t<tr><td> 2.1249309 </td><td>-0.37705956</td></tr>\n",
       "\t<tr><td> 0.9550664 </td><td> 0.58500544</td></tr>\n",
       "\t<tr><td> 0.9838097 </td><td> 0.60571005</td></tr>\n",
       "\t<tr><td> 1.9438362 </td><td> 0.94068660</td></tr>\n",
       "\t<tr><td> 1.8212212 </td><td> 2.10002537</td></tr>\n",
       "\t<tr><td> 1.5939013 </td><td> 1.76317575</td></tr>\n",
       "</tbody>\n",
       "</table>\n"
      ],
      "text/latex": [
       "\\begin{tabular}{ll}\n",
       "\t -0.6264538  &  0.91897737\\\\\n",
       "\t  0.1836433  &  0.78213630\\\\\n",
       "\t -0.8356286  &  0.07456498\\\\\n",
       "\t  1.5952808  & -1.98935170\\\\\n",
       "\t  0.3295078  &  0.61982575\\\\\n",
       "\t -0.8204684  & -0.05612874\\\\\n",
       "\t  0.4874291  & -0.15579551\\\\\n",
       "\t  0.7383247  & -1.47075238\\\\\n",
       "\t  0.5757814  & -0.47815006\\\\\n",
       "\t -0.3053884  &  0.41794156\\\\\n",
       "\t  2.5117812  &  2.35867955\\\\\n",
       "\t  1.3898432  &  0.89721227\\\\\n",
       "\t  0.3787594  &  1.38767161\\\\\n",
       "\t -1.2146999  &  0.94619496\\\\\n",
       "\t  2.1249309  & -0.37705956\\\\\n",
       "\t  0.9550664  &  0.58500544\\\\\n",
       "\t  0.9838097  &  0.60571005\\\\\n",
       "\t  1.9438362  &  0.94068660\\\\\n",
       "\t  1.8212212  &  2.10002537\\\\\n",
       "\t  1.5939013  &  1.76317575\\\\\n",
       "\\end{tabular}\n"
      ],
      "text/markdown": [
       "\n",
       "| -0.6264538  |  0.91897737 | \n",
       "|  0.1836433  |  0.78213630 | \n",
       "| -0.8356286  |  0.07456498 | \n",
       "|  1.5952808  | -1.98935170 | \n",
       "|  0.3295078  |  0.61982575 | \n",
       "| -0.8204684  | -0.05612874 | \n",
       "|  0.4874291  | -0.15579551 | \n",
       "|  0.7383247  | -1.47075238 | \n",
       "|  0.5757814  | -0.47815006 | \n",
       "| -0.3053884  |  0.41794156 | \n",
       "|  2.5117812  |  2.35867955 | \n",
       "|  1.3898432  |  0.89721227 | \n",
       "|  0.3787594  |  1.38767161 | \n",
       "| -1.2146999  |  0.94619496 | \n",
       "|  2.1249309  | -0.37705956 | \n",
       "|  0.9550664  |  0.58500544 | \n",
       "|  0.9838097  |  0.60571005 | \n",
       "|  1.9438362  |  0.94068660 | \n",
       "|  1.8212212  |  2.10002537 | \n",
       "|  1.5939013  |  1.76317575 | \n",
       "\n",
       "\n"
      ],
      "text/plain": [
       "      [,1]       [,2]       \n",
       " [1,] -0.6264538  0.91897737\n",
       " [2,]  0.1836433  0.78213630\n",
       " [3,] -0.8356286  0.07456498\n",
       " [4,]  1.5952808 -1.98935170\n",
       " [5,]  0.3295078  0.61982575\n",
       " [6,] -0.8204684 -0.05612874\n",
       " [7,]  0.4874291 -0.15579551\n",
       " [8,]  0.7383247 -1.47075238\n",
       " [9,]  0.5757814 -0.47815006\n",
       "[10,] -0.3053884  0.41794156\n",
       "[11,]  2.5117812  2.35867955\n",
       "[12,]  1.3898432  0.89721227\n",
       "[13,]  0.3787594  1.38767161\n",
       "[14,] -1.2146999  0.94619496\n",
       "[15,]  2.1249309 -0.37705956\n",
       "[16,]  0.9550664  0.58500544\n",
       "[17,]  0.9838097  0.60571005\n",
       "[18,]  1.9438362  0.94068660\n",
       "[19,]  1.8212212  2.10002537\n",
       "[20,]  1.5939013  1.76317575"
      ]
     },
     "metadata": {},
     "output_type": "display_data"
    }
   ],
   "source": [
    "x[y==1,] = x[y==1,] + 1\n",
    "x"
   ]
  },
  {
   "cell_type": "markdown",
   "metadata": {},
   "source": [
    "Vamos ver se esse nosso dataset artificial é linearmente separável"
   ]
  },
  {
   "cell_type": "code",
   "execution_count": 6,
   "metadata": {},
   "outputs": [
    {
     "data": {
      "image/png": "[encoded data removed]",
      "text/plain": [
       "plot without title"
      ]
     },
     "metadata": {},
     "output_type": "display_data"
    }
   ],
   "source": [
    "plot(x, col=c(3-y)) # col = 2 então azul, col = 4 etão vermelho"
   ]
  },
  {
   "cell_type": "markdown",
   "metadata": {},
   "source": [
    "Vamos agora criar nosso dataframe dat com os dados de x e y"
   ]
  },
  {
   "cell_type": "code",
   "execution_count": 9,
   "metadata": {},
   "outputs": [
    {
     "data": {
      "text/html": [
       "<table>\n",
       "<thead><tr><th scope=col>X1</th><th scope=col>X2</th><th scope=col>y</th></tr></thead>\n",
       "<tbody>\n",
       "\t<tr><td>-0.6264538 </td><td> 0.91897737</td><td>-1         </td></tr>\n",
       "\t<tr><td> 0.1836433 </td><td> 0.78213630</td><td>-1         </td></tr>\n",
       "\t<tr><td>-0.8356286 </td><td> 0.07456498</td><td>-1         </td></tr>\n",
       "\t<tr><td> 1.5952808 </td><td>-1.98935170</td><td>-1         </td></tr>\n",
       "\t<tr><td> 0.3295078 </td><td> 0.61982575</td><td>-1         </td></tr>\n",
       "\t<tr><td>-0.8204684 </td><td>-0.05612874</td><td>-1         </td></tr>\n",
       "\t<tr><td> 0.4874291 </td><td>-0.15579551</td><td>-1         </td></tr>\n",
       "\t<tr><td> 0.7383247 </td><td>-1.47075238</td><td>-1         </td></tr>\n",
       "\t<tr><td> 0.5757814 </td><td>-0.47815006</td><td>-1         </td></tr>\n",
       "\t<tr><td>-0.3053884 </td><td> 0.41794156</td><td>-1         </td></tr>\n",
       "\t<tr><td> 2.5117812 </td><td> 2.35867955</td><td>1          </td></tr>\n",
       "\t<tr><td> 1.3898432 </td><td> 0.89721227</td><td>1          </td></tr>\n",
       "\t<tr><td> 0.3787594 </td><td> 1.38767161</td><td>1          </td></tr>\n",
       "\t<tr><td>-1.2146999 </td><td> 0.94619496</td><td>1          </td></tr>\n",
       "\t<tr><td> 2.1249309 </td><td>-0.37705956</td><td>1          </td></tr>\n",
       "\t<tr><td> 0.9550664 </td><td> 0.58500544</td><td>1          </td></tr>\n",
       "\t<tr><td> 0.9838097 </td><td> 0.60571005</td><td>1          </td></tr>\n",
       "\t<tr><td> 1.9438362 </td><td> 0.94068660</td><td>1          </td></tr>\n",
       "\t<tr><td> 1.8212212 </td><td> 2.10002537</td><td>1          </td></tr>\n",
       "\t<tr><td> 1.5939013 </td><td> 1.76317575</td><td>1          </td></tr>\n",
       "</tbody>\n",
       "</table>\n"
      ],
      "text/latex": [
       "\\begin{tabular}{r|lll}\n",
       " X1 & X2 & y\\\\\n",
       "\\hline\n",
       "\t -0.6264538  &  0.91897737 & -1         \\\\\n",
       "\t  0.1836433  &  0.78213630 & -1         \\\\\n",
       "\t -0.8356286  &  0.07456498 & -1         \\\\\n",
       "\t  1.5952808  & -1.98935170 & -1         \\\\\n",
       "\t  0.3295078  &  0.61982575 & -1         \\\\\n",
       "\t -0.8204684  & -0.05612874 & -1         \\\\\n",
       "\t  0.4874291  & -0.15579551 & -1         \\\\\n",
       "\t  0.7383247  & -1.47075238 & -1         \\\\\n",
       "\t  0.5757814  & -0.47815006 & -1         \\\\\n",
       "\t -0.3053884  &  0.41794156 & -1         \\\\\n",
       "\t  2.5117812  &  2.35867955 & 1          \\\\\n",
       "\t  1.3898432  &  0.89721227 & 1          \\\\\n",
       "\t  0.3787594  &  1.38767161 & 1          \\\\\n",
       "\t -1.2146999  &  0.94619496 & 1          \\\\\n",
       "\t  2.1249309  & -0.37705956 & 1          \\\\\n",
       "\t  0.9550664  &  0.58500544 & 1          \\\\\n",
       "\t  0.9838097  &  0.60571005 & 1          \\\\\n",
       "\t  1.9438362  &  0.94068660 & 1          \\\\\n",
       "\t  1.8212212  &  2.10002537 & 1          \\\\\n",
       "\t  1.5939013  &  1.76317575 & 1          \\\\\n",
       "\\end{tabular}\n"
      ],
      "text/markdown": [
       "\n",
       "X1 | X2 | y | \n",
       "|---|---|---|---|---|---|---|---|---|---|---|---|---|---|---|---|---|---|---|---|\n",
       "| -0.6264538  |  0.91897737 | -1          | \n",
       "|  0.1836433  |  0.78213630 | -1          | \n",
       "| -0.8356286  |  0.07456498 | -1          | \n",
       "|  1.5952808  | -1.98935170 | -1          | \n",
       "|  0.3295078  |  0.61982575 | -1          | \n",
       "| -0.8204684  | -0.05612874 | -1          | \n",
       "|  0.4874291  | -0.15579551 | -1          | \n",
       "|  0.7383247  | -1.47075238 | -1          | \n",
       "|  0.5757814  | -0.47815006 | -1          | \n",
       "| -0.3053884  |  0.41794156 | -1          | \n",
       "|  2.5117812  |  2.35867955 | 1           | \n",
       "|  1.3898432  |  0.89721227 | 1           | \n",
       "|  0.3787594  |  1.38767161 | 1           | \n",
       "| -1.2146999  |  0.94619496 | 1           | \n",
       "|  2.1249309  | -0.37705956 | 1           | \n",
       "|  0.9550664  |  0.58500544 | 1           | \n",
       "|  0.9838097  |  0.60571005 | 1           | \n",
       "|  1.9438362  |  0.94068660 | 1           | \n",
       "|  1.8212212  |  2.10002537 | 1           | \n",
       "|  1.5939013  |  1.76317575 | 1           | \n",
       "\n",
       "\n"
      ],
      "text/plain": [
       "   X1         X2          y \n",
       "1  -0.6264538  0.91897737 -1\n",
       "2   0.1836433  0.78213630 -1\n",
       "3  -0.8356286  0.07456498 -1\n",
       "4   1.5952808 -1.98935170 -1\n",
       "5   0.3295078  0.61982575 -1\n",
       "6  -0.8204684 -0.05612874 -1\n",
       "7   0.4874291 -0.15579551 -1\n",
       "8   0.7383247 -1.47075238 -1\n",
       "9   0.5757814 -0.47815006 -1\n",
       "10 -0.3053884  0.41794156 -1\n",
       "11  2.5117812  2.35867955 1 \n",
       "12  1.3898432  0.89721227 1 \n",
       "13  0.3787594  1.38767161 1 \n",
       "14 -1.2146999  0.94619496 1 \n",
       "15  2.1249309 -0.37705956 1 \n",
       "16  0.9550664  0.58500544 1 \n",
       "17  0.9838097  0.60571005 1 \n",
       "18  1.9438362  0.94068660 1 \n",
       "19  1.8212212  2.10002537 1 \n",
       "20  1.5939013  1.76317575 1 "
      ]
     },
     "metadata": {},
     "output_type": "display_data"
    }
   ],
   "source": [
    "dat = data.frame(x, y=as.factor(x = y))\n",
    "dat"
   ]
  },
  {
   "cell_type": "markdown",
   "metadata": {},
   "source": [
    "### Brincando com SVM"
   ]
  },
  {
   "cell_type": "markdown",
   "metadata": {},
   "source": [
    "O nome do pacote que iremos usar no R é *e1071*, que é a sala na Universidade de Berlim onde esse pacote foi apresentado pela primeira vez. "
   ]
  },
  {
   "cell_type": "code",
   "execution_count": 11,
   "metadata": {},
   "outputs": [],
   "source": [
    "library(e1071)"
   ]
  },
  {
   "cell_type": "code",
   "execution_count": 12,
   "metadata": {},
   "outputs": [
    {
     "data": {
      "image/png": "[encoded data removed]",
      "text/plain": [
       "Plot with title “SVM classification plot”"
      ]
     },
     "metadata": {},
     "output_type": "display_data"
    }
   ],
   "source": [
    "# gerando nosso modelo\n",
    "svmfit = svm(y ~., data = dat, kernel = \"linear\", cost = 10, scale = FALSE)\n",
    "plot(svmfit, dat)"
   ]
  },
  {
   "cell_type": "code",
   "execution_count": 14,
   "metadata": {},
   "outputs": [
    {
     "data": {
      "text/html": [
       "<ol class=list-inline>\n",
       "\t<li>1</li>\n",
       "\t<li>2</li>\n",
       "\t<li>5</li>\n",
       "\t<li>7</li>\n",
       "\t<li>14</li>\n",
       "\t<li>16</li>\n",
       "\t<li>17</li>\n",
       "</ol>\n"
      ],
      "text/latex": [
       "\\begin{enumerate*}\n",
       "\\item 1\n",
       "\\item 2\n",
       "\\item 5\n",
       "\\item 7\n",
       "\\item 14\n",
       "\\item 16\n",
       "\\item 17\n",
       "\\end{enumerate*}\n"
      ],
      "text/markdown": [
       "1. 1\n",
       "2. 2\n",
       "3. 5\n",
       "4. 7\n",
       "5. 14\n",
       "6. 16\n",
       "7. 17\n",
       "\n",
       "\n"
      ],
      "text/plain": [
       "[1]  1  2  5  7 14 16 17"
      ]
     },
     "metadata": {},
     "output_type": "display_data"
    }
   ],
   "source": [
    "# os índices de nossos vetores suporte\n",
    "svmfit$index"
   ]
  },
  {
   "cell_type": "markdown",
   "metadata": {},
   "source": [
    "Isso quer dizer que nossa 1ª, 2ª, 5ª, 7ª, 14ª, 16ª e 17ª observações são nossos vetores suportes. "
   ]
  },
  {
   "cell_type": "code",
   "execution_count": 15,
   "metadata": {},
   "outputs": [
    {
     "data": {
      "text/plain": [
       "\n",
       "Call:\n",
       "svm(formula = y ~ ., data = dat, kernel = \"linear\", cost = 10, scale = FALSE)\n",
       "\n",
       "\n",
       "Parameters:\n",
       "   SVM-Type:  C-classification \n",
       " SVM-Kernel:  linear \n",
       "       cost:  10 \n",
       "      gamma:  0.5 \n",
       "\n",
       "Number of Support Vectors:  7\n",
       "\n",
       " ( 4 3 )\n",
       "\n",
       "\n",
       "Number of Classes:  2 \n",
       "\n",
       "Levels: \n",
       " -1 1\n",
       "\n",
       "\n"
      ]
     },
     "metadata": {},
     "output_type": "display_data"
    }
   ],
   "source": [
    "summary(svmfit)"
   ]
  },
  {
   "cell_type": "markdown",
   "metadata": {},
   "source": [
    "Temos 7 vetores suporte, 4 na categoria -1 e 3 na categoria 1. "
   ]
  },
  {
   "cell_type": "markdown",
   "metadata": {},
   "source": [
    "Usamos como custo o valor 10, para achar o valor de custo ideal precisamos usar uma técnica de cross-validation. Para isso podemos usar o tune(afinação) do modelo."
   ]
  },
  {
   "cell_type": "code",
   "execution_count": 18,
   "metadata": {},
   "outputs": [],
   "source": [
    "set.seed(1)\n",
    "tune.out = tune(svm, y~., data=dat, kernel = 'linear', \n",
    "                ranges = list( cost = c(.001, 0.01, 0.1, 1, 5, 10, 100)))"
   ]
  },
  {
   "cell_type": "code",
   "execution_count": 19,
   "metadata": {},
   "outputs": [
    {
     "data": {
      "text/plain": [
       "\n",
       "Parameter tuning of ‘svm’:\n",
       "\n",
       "- sampling method: 10-fold cross validation \n",
       "\n",
       "- best parameters:\n",
       " cost\n",
       "  0.1\n",
       "\n",
       "- best performance: 0.1 \n",
       "\n",
       "- Detailed performance results:\n",
       "   cost error dispersion\n",
       "1 1e-03  0.70  0.4216370\n",
       "2 1e-02  0.70  0.4216370\n",
       "3 1e-01  0.10  0.2108185\n",
       "4 1e+00  0.15  0.2415229\n",
       "5 5e+00  0.15  0.2415229\n",
       "6 1e+01  0.15  0.2415229\n",
       "7 1e+02  0.15  0.2415229\n"
      ]
     },
     "metadata": {},
     "output_type": "display_data"
    }
   ],
   "source": [
    "summary(tune.out)"
   ]
  },
  {
   "cell_type": "markdown",
   "metadata": {},
   "source": [
    "O melhor custo usando foi o 0.1!"
   ]
  },
  {
   "cell_type": "code",
   "execution_count": 20,
   "metadata": {},
   "outputs": [
    {
     "data": {
      "text/plain": [
       "\n",
       "Call:\n",
       "best.tune(method = svm, train.x = y ~ ., data = dat, ranges = list(cost = c(0.001, \n",
       "    0.01, 0.1, 1, 5, 10, 100)), kernel = \"linear\")\n",
       "\n",
       "\n",
       "Parameters:\n",
       "   SVM-Type:  C-classification \n",
       " SVM-Kernel:  linear \n",
       "       cost:  0.1 \n",
       "      gamma:  0.5 \n",
       "\n",
       "Number of Support Vectors:  16\n"
      ]
     },
     "metadata": {},
     "output_type": "display_data"
    }
   ],
   "source": [
    "tune.out$best.model"
   ]
  },
  {
   "cell_type": "code",
   "execution_count": 21,
   "metadata": {},
   "outputs": [
    {
     "data": {
      "text/plain": [
       "\n",
       "Call:\n",
       "best.tune(method = svm, train.x = y ~ ., data = dat, ranges = list(cost = c(0.001, \n",
       "    0.01, 0.1, 1, 5, 10, 100)), kernel = \"linear\")\n",
       "\n",
       "\n",
       "Parameters:\n",
       "   SVM-Type:  C-classification \n",
       " SVM-Kernel:  linear \n",
       "       cost:  0.1 \n",
       "      gamma:  0.5 \n",
       "\n",
       "Number of Support Vectors:  16\n",
       "\n",
       " ( 8 8 )\n",
       "\n",
       "\n",
       "Number of Classes:  2 \n",
       "\n",
       "Levels: \n",
       " -1 1\n",
       "\n",
       "\n"
      ]
     },
     "metadata": {},
     "output_type": "display_data"
    }
   ],
   "source": [
    "summary(tune.out$best.model)"
   ]
  },
  {
   "cell_type": "code",
   "execution_count": null,
   "metadata": {},
   "outputs": [],
   "source": []
  }
 ],
 "metadata": {
  "kernelspec": {
   "display_name": "R",
   "language": "R",
   "name": "ir"
  },
  "language_info": {
   "codemirror_mode": "r",
   "file_extension": ".r",
   "mimetype": "text/x-r-source",
   "name": "R",
   "pygments_lexer": "r",
   "version": "3.4.4"
  }
 },
 "nbformat": 4,
 "nbformat_minor": 2
}
